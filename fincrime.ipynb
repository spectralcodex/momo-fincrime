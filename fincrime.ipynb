{
 "cells": [
  {
   "cell_type": "markdown",
   "metadata": {},
   "source": [
    "# **Mobile Money Fraud Detection with Ensemble Machine Learning**\n",
    "* **Author:** *Stephen Adarkwah*\n",
    "* **Author Date:** *20240801*\n",
    "* **Version:** *1.0*\n",
    "  \n",
    "### Context\n",
    "Mobile money fraud detection using machine learning is critical in safeguarding financial ecosystems. It involves applying advanced algorithms and data analysis techniques to identify suspicious activities and prevent real-time fraudulent transactions. An effective fraud detection system should be able to detect fraudulent transactions with high accuracy and efficiency. While avoiding bad actors from executing fraudulent transactions is necessary, ensuring genuine users can access the payment system is also critical. However, many false positives may lead to a poor customer experience, potentially driving customers to take their business elsewhere and highlighting the need for accurate fraud detection.\n",
    "\n",
    "### Other Challenges \n",
    " A significant challenge in building fraud detection models in research is the availability of transactional datasets due to confidentiality and data governance policies around financial data. Another major challenge in applying Machine Learning to fraud detection is the presence of highly imbalanced data sets. In many available datasets, most transactions are genuine, with a tiny percentage of fraudulent transactions. Designing an accurate and efficient fraud detection system that is low on false positives but detects fraudulent activity effectively is a significant challenge for researchers. \n",
    " \n",
    "### About Dataset \n",
    "The lack of legitimate datasets in mobile money transactions to perform fraud detection research has always been a big problem. This will leave researchers with the burden of harnessing the datasets before conducting the research. Paysim is a financial simulator that simulates mobile money transactions based on an original dataset.\n",
    "\n",
    "PaySim is based on a sample of genuine mobile money transactions from an African country provided by a multinational company with services in over 14 countries. This synthetic approach offers a valuable resource for advancing fraud detection research. Clone PaySim source repository at https://github.com/EdgarLopezPhD/PaySim/tree/master which is a java based application.\n",
    "\n",
    "*These fields form the basis of the synthetic dataset, providing a comprehensive view of transaction activities while offering opportunities to study and test fraud detection methods.*\n",
    "\n",
    "\n",
    "### Research Goals\n",
    "1. Are there limitations in using ensemble learning to combat modern-day Mobile Money fraud?\n",
    "2. Can these limitations be fixed or improved?\n",
    "3. Is ensemble learning an effective combatant against mobile money fraud in contrast to traditional solutions like data mining, anonymous tip lines (including online or website) and financial auditing?\n",
    "\n"
   ]
  },
  {
   "cell_type": "markdown",
   "metadata": {},
   "source": [
    "#### Importing Libraries"
   ]
  },
  {
   "cell_type": "code",
   "execution_count": 2,
   "metadata": {},
   "outputs": [],
   "source": [
    "import pandas as pd\n",
    "import matplotlib.pyplot as plt\n",
    "import seaborn as sns\n",
    "import numpy as np\n",
    "from scipy.stats import pearsonr\n",
    "from sklearn.preprocessing import LabelEncoder\n",
    "import warnings\n",
    "warnings.filterwarnings(\"ignore\")\n"
   ]
  },
  {
   "cell_type": "markdown",
   "metadata": {},
   "source": [
    "#### Get simulated data"
   ]
  },
  {
   "cell_type": "code",
   "execution_count": 3,
   "metadata": {},
   "outputs": [
    {
     "data": {
      "text/html": [
       "<div>\n",
       "<style scoped>\n",
       "    .dataframe tbody tr th:only-of-type {\n",
       "        vertical-align: middle;\n",
       "    }\n",
       "\n",
       "    .dataframe tbody tr th {\n",
       "        vertical-align: top;\n",
       "    }\n",
       "\n",
       "    .dataframe thead th {\n",
       "        text-align: right;\n",
       "    }\n",
       "</style>\n",
       "<table border=\"1\" class=\"dataframe\">\n",
       "  <thead>\n",
       "    <tr style=\"text-align: right;\">\n",
       "      <th></th>\n",
       "      <th>step</th>\n",
       "      <th>type</th>\n",
       "      <th>amount</th>\n",
       "      <th>nameOrig</th>\n",
       "      <th>oldBalanceOrg</th>\n",
       "      <th>newBalanceOrig</th>\n",
       "      <th>nameDest</th>\n",
       "      <th>oldBalanceDest</th>\n",
       "      <th>newBalanceDest</th>\n",
       "      <th>isFraud</th>\n",
       "      <th>isFlaggedFraud</th>\n",
       "    </tr>\n",
       "  </thead>\n",
       "  <tbody>\n",
       "    <tr>\n",
       "      <th>0</th>\n",
       "      <td>1</td>\n",
       "      <td>PAYMENT</td>\n",
       "      <td>9839.64</td>\n",
       "      <td>C1231006815</td>\n",
       "      <td>170136.0</td>\n",
       "      <td>160296.36</td>\n",
       "      <td>M1979787155</td>\n",
       "      <td>0.0</td>\n",
       "      <td>0.0</td>\n",
       "      <td>0</td>\n",
       "      <td>0</td>\n",
       "    </tr>\n",
       "    <tr>\n",
       "      <th>1</th>\n",
       "      <td>1</td>\n",
       "      <td>PAYMENT</td>\n",
       "      <td>1864.28</td>\n",
       "      <td>C1666544295</td>\n",
       "      <td>21249.0</td>\n",
       "      <td>19384.72</td>\n",
       "      <td>M2044282225</td>\n",
       "      <td>0.0</td>\n",
       "      <td>0.0</td>\n",
       "      <td>0</td>\n",
       "      <td>0</td>\n",
       "    </tr>\n",
       "    <tr>\n",
       "      <th>2</th>\n",
       "      <td>1</td>\n",
       "      <td>TRANSFER</td>\n",
       "      <td>181.00</td>\n",
       "      <td>C1305486145</td>\n",
       "      <td>181.0</td>\n",
       "      <td>0.00</td>\n",
       "      <td>C553264065</td>\n",
       "      <td>0.0</td>\n",
       "      <td>0.0</td>\n",
       "      <td>1</td>\n",
       "      <td>0</td>\n",
       "    </tr>\n",
       "    <tr>\n",
       "      <th>3</th>\n",
       "      <td>1</td>\n",
       "      <td>CASH_OUT</td>\n",
       "      <td>181.00</td>\n",
       "      <td>C840083671</td>\n",
       "      <td>181.0</td>\n",
       "      <td>0.00</td>\n",
       "      <td>C38997010</td>\n",
       "      <td>21182.0</td>\n",
       "      <td>0.0</td>\n",
       "      <td>1</td>\n",
       "      <td>0</td>\n",
       "    </tr>\n",
       "    <tr>\n",
       "      <th>4</th>\n",
       "      <td>1</td>\n",
       "      <td>PAYMENT</td>\n",
       "      <td>11668.14</td>\n",
       "      <td>C2048537720</td>\n",
       "      <td>41554.0</td>\n",
       "      <td>29885.86</td>\n",
       "      <td>M1230701703</td>\n",
       "      <td>0.0</td>\n",
       "      <td>0.0</td>\n",
       "      <td>0</td>\n",
       "      <td>0</td>\n",
       "    </tr>\n",
       "  </tbody>\n",
       "</table>\n",
       "</div>"
      ],
      "text/plain": [
       "   step      type    amount     nameOrig  oldBalanceOrg  newBalanceOrig  \\\n",
       "0     1   PAYMENT   9839.64  C1231006815       170136.0       160296.36   \n",
       "1     1   PAYMENT   1864.28  C1666544295        21249.0        19384.72   \n",
       "2     1  TRANSFER    181.00  C1305486145          181.0            0.00   \n",
       "3     1  CASH_OUT    181.00   C840083671          181.0            0.00   \n",
       "4     1   PAYMENT  11668.14  C2048537720        41554.0        29885.86   \n",
       "\n",
       "      nameDest  oldBalanceDest  newBalanceDest  isFraud  isFlaggedFraud  \n",
       "0  M1979787155             0.0             0.0        0               0  \n",
       "1  M2044282225             0.0             0.0        0               0  \n",
       "2   C553264065             0.0             0.0        1               0  \n",
       "3    C38997010         21182.0             0.0        1               0  \n",
       "4  M1230701703             0.0             0.0        0               0  "
      ]
     },
     "execution_count": 3,
     "metadata": {},
     "output_type": "execute_result"
    }
   ],
   "source": [
    "# Loading datasets\n",
    "df = pd.read_csv('./outputs/paysim.csv')\n",
    "\n",
    "# fix column names to camel case\n",
    "dataset = df.rename(columns={'oldbalanceOrg':'oldBalanceOrg', 'newbalanceOrig':'newBalanceOrig',\n",
    "                             'oldbalanceDest':'oldBalanceDest', 'newbalanceDest':'newBalanceDest'})\n",
    "dataset.head()"
   ]
  },
  {
   "cell_type": "code",
   "execution_count": 4,
   "metadata": {},
   "outputs": [
    {
     "name": "stdout",
     "output_type": "stream",
     "text": [
      "<class 'pandas.core.frame.DataFrame'>\n",
      "RangeIndex: 6362620 entries, 0 to 6362619\n",
      "Data columns (total 11 columns):\n",
      " #   Column          Dtype  \n",
      "---  ------          -----  \n",
      " 0   step            int64  \n",
      " 1   type            object \n",
      " 2   amount          float64\n",
      " 3   nameOrig        object \n",
      " 4   oldBalanceOrg   float64\n",
      " 5   newBalanceOrig  float64\n",
      " 6   nameDest        object \n",
      " 7   oldBalanceDest  float64\n",
      " 8   newBalanceDest  float64\n",
      " 9   isFraud         int64  \n",
      " 10  isFlaggedFraud  int64  \n",
      "dtypes: float64(5), int64(3), object(3)\n",
      "memory usage: 534.0+ MB\n"
     ]
    }
   ],
   "source": [
    "# check schema\n",
    "dataset.info()"
   ]
  },
  {
   "cell_type": "markdown",
   "metadata": {},
   "source": [
    "\n",
    "The dataset contains the following attributes:\n",
    "\n",
    "* **step:** This is a unit of time representing one hour in the real world. The total number of steps is 744, corresponding to a 30-day simulation.\n",
    "\n",
    "* **type:** The type of transaction performed. The possible types are *CASH-IN*, *CASH-OUT*, *DEBIT*, *PAYMENT*, and *TRANSFER*.\n",
    "\n",
    "#### About type of transactions\n",
    "* CASH-IN: Refers to depositing cash into an account (adding funds).\n",
    "\n",
    "* CASH-OUT: Refers to withdrawing cash from an account (removing funds).\n",
    "\n",
    "* DEBIT: It refer to a decrease in the balance of a financial account due to a withdrawal or an expense.\n",
    "\n",
    "* PAYMENT: Refers to the transfer of money from one party (payer) to another (payee) in exchange for goods, services, or as settlement of a debt.\n",
    "\n",
    "* TRANSFER: Refers to moving money from one account to another, often between accounts held by the same person or entity.\n",
    "\n",
    "\n",
    "* **amount:** The transaction amount in your preferred local currency (£ in my case).\n",
    "\n",
    "* **nameOrig:** The customer who initiated the transaction.\n",
    "\n",
    "* **oldBalanceOrig:** The initial balance of the customer before the transaction.\n",
    "\n",
    "* **newBalanceOrig:** The new balance of the customer after the transaction.\n",
    "\n",
    "* **nameDest:** The recipient of the transaction.\n",
    "\n",
    "* **oldBalanceDest:** The initial balance of the recipient before the transaction. There is no information for customers whose names start with \"M\" (merchants).\n",
    "\n",
    "* **newBalanceDest:** The new balance of the recipient after the transaction. As with \"oldbalanceDest,\" there is no information for customers whose names start with \"M.\" (merchants)\n",
    "\n",
    "* **isFraud:** Indicates whether a transaction is fraudulent.\n",
    "\n",
    "* **isFlaggedFraud:** Flags transactions that exceed a certain threshold. In this dataset, transfers over 200,000 in a single transaction are flagged as potentially fraudulent.\n",
    "\n",
    "\n"
   ]
  },
  {
   "cell_type": "markdown",
   "metadata": {},
   "source": [
    "I get the summarized overview of the dataset to observe the distribution/dispersion in data points."
   ]
  },
  {
   "cell_type": "code",
   "execution_count": 5,
   "metadata": {},
   "outputs": [
    {
     "data": {
      "text/html": [
       "<div>\n",
       "<style scoped>\n",
       "    .dataframe tbody tr th:only-of-type {\n",
       "        vertical-align: middle;\n",
       "    }\n",
       "\n",
       "    .dataframe tbody tr th {\n",
       "        vertical-align: top;\n",
       "    }\n",
       "\n",
       "    .dataframe thead th {\n",
       "        text-align: right;\n",
       "    }\n",
       "</style>\n",
       "<table border=\"1\" class=\"dataframe\">\n",
       "  <thead>\n",
       "    <tr style=\"text-align: right;\">\n",
       "      <th></th>\n",
       "      <th>step</th>\n",
       "      <th>amount</th>\n",
       "      <th>oldBalanceOrg</th>\n",
       "      <th>newBalanceOrig</th>\n",
       "      <th>oldBalanceDest</th>\n",
       "      <th>newBalanceDest</th>\n",
       "      <th>isFraud</th>\n",
       "      <th>isFlaggedFraud</th>\n",
       "    </tr>\n",
       "  </thead>\n",
       "  <tbody>\n",
       "    <tr>\n",
       "      <th>count</th>\n",
       "      <td>6.362620e+06</td>\n",
       "      <td>6.362620e+06</td>\n",
       "      <td>6.362620e+06</td>\n",
       "      <td>6.362620e+06</td>\n",
       "      <td>6.362620e+06</td>\n",
       "      <td>6.362620e+06</td>\n",
       "      <td>6.362620e+06</td>\n",
       "      <td>6.362620e+06</td>\n",
       "    </tr>\n",
       "    <tr>\n",
       "      <th>mean</th>\n",
       "      <td>2.433972e+02</td>\n",
       "      <td>1.798619e+05</td>\n",
       "      <td>8.338831e+05</td>\n",
       "      <td>8.551137e+05</td>\n",
       "      <td>1.100702e+06</td>\n",
       "      <td>1.224996e+06</td>\n",
       "      <td>1.290820e-03</td>\n",
       "      <td>2.514687e-06</td>\n",
       "    </tr>\n",
       "    <tr>\n",
       "      <th>std</th>\n",
       "      <td>1.423320e+02</td>\n",
       "      <td>6.038582e+05</td>\n",
       "      <td>2.888243e+06</td>\n",
       "      <td>2.924049e+06</td>\n",
       "      <td>3.399180e+06</td>\n",
       "      <td>3.674129e+06</td>\n",
       "      <td>3.590480e-02</td>\n",
       "      <td>1.585775e-03</td>\n",
       "    </tr>\n",
       "    <tr>\n",
       "      <th>min</th>\n",
       "      <td>1.000000e+00</td>\n",
       "      <td>0.000000e+00</td>\n",
       "      <td>0.000000e+00</td>\n",
       "      <td>0.000000e+00</td>\n",
       "      <td>0.000000e+00</td>\n",
       "      <td>0.000000e+00</td>\n",
       "      <td>0.000000e+00</td>\n",
       "      <td>0.000000e+00</td>\n",
       "    </tr>\n",
       "    <tr>\n",
       "      <th>25%</th>\n",
       "      <td>1.560000e+02</td>\n",
       "      <td>1.338957e+04</td>\n",
       "      <td>0.000000e+00</td>\n",
       "      <td>0.000000e+00</td>\n",
       "      <td>0.000000e+00</td>\n",
       "      <td>0.000000e+00</td>\n",
       "      <td>0.000000e+00</td>\n",
       "      <td>0.000000e+00</td>\n",
       "    </tr>\n",
       "    <tr>\n",
       "      <th>50%</th>\n",
       "      <td>2.390000e+02</td>\n",
       "      <td>7.487194e+04</td>\n",
       "      <td>1.420800e+04</td>\n",
       "      <td>0.000000e+00</td>\n",
       "      <td>1.327057e+05</td>\n",
       "      <td>2.146614e+05</td>\n",
       "      <td>0.000000e+00</td>\n",
       "      <td>0.000000e+00</td>\n",
       "    </tr>\n",
       "    <tr>\n",
       "      <th>75%</th>\n",
       "      <td>3.350000e+02</td>\n",
       "      <td>2.087215e+05</td>\n",
       "      <td>1.073152e+05</td>\n",
       "      <td>1.442584e+05</td>\n",
       "      <td>9.430367e+05</td>\n",
       "      <td>1.111909e+06</td>\n",
       "      <td>0.000000e+00</td>\n",
       "      <td>0.000000e+00</td>\n",
       "    </tr>\n",
       "    <tr>\n",
       "      <th>max</th>\n",
       "      <td>7.430000e+02</td>\n",
       "      <td>9.244552e+07</td>\n",
       "      <td>5.958504e+07</td>\n",
       "      <td>4.958504e+07</td>\n",
       "      <td>3.560159e+08</td>\n",
       "      <td>3.561793e+08</td>\n",
       "      <td>1.000000e+00</td>\n",
       "      <td>1.000000e+00</td>\n",
       "    </tr>\n",
       "  </tbody>\n",
       "</table>\n",
       "</div>"
      ],
      "text/plain": [
       "               step        amount  oldBalanceOrg  newBalanceOrig  \\\n",
       "count  6.362620e+06  6.362620e+06   6.362620e+06    6.362620e+06   \n",
       "mean   2.433972e+02  1.798619e+05   8.338831e+05    8.551137e+05   \n",
       "std    1.423320e+02  6.038582e+05   2.888243e+06    2.924049e+06   \n",
       "min    1.000000e+00  0.000000e+00   0.000000e+00    0.000000e+00   \n",
       "25%    1.560000e+02  1.338957e+04   0.000000e+00    0.000000e+00   \n",
       "50%    2.390000e+02  7.487194e+04   1.420800e+04    0.000000e+00   \n",
       "75%    3.350000e+02  2.087215e+05   1.073152e+05    1.442584e+05   \n",
       "max    7.430000e+02  9.244552e+07   5.958504e+07    4.958504e+07   \n",
       "\n",
       "       oldBalanceDest  newBalanceDest       isFraud  isFlaggedFraud  \n",
       "count    6.362620e+06    6.362620e+06  6.362620e+06    6.362620e+06  \n",
       "mean     1.100702e+06    1.224996e+06  1.290820e-03    2.514687e-06  \n",
       "std      3.399180e+06    3.674129e+06  3.590480e-02    1.585775e-03  \n",
       "min      0.000000e+00    0.000000e+00  0.000000e+00    0.000000e+00  \n",
       "25%      0.000000e+00    0.000000e+00  0.000000e+00    0.000000e+00  \n",
       "50%      1.327057e+05    2.146614e+05  0.000000e+00    0.000000e+00  \n",
       "75%      9.430367e+05    1.111909e+06  0.000000e+00    0.000000e+00  \n",
       "max      3.560159e+08    3.561793e+08  1.000000e+00    1.000000e+00  "
      ]
     },
     "execution_count": 5,
     "metadata": {},
     "output_type": "execute_result"
    }
   ],
   "source": [
    "# get statistics\n",
    "dataset.describe()"
   ]
  },
  {
   "cell_type": "markdown",
   "metadata": {},
   "source": [
    "The dataset has 6362620 transactions. The mean fraud is 0.00129, which means there are very few fraud cases recorded, i.e., 13 real fraud cases every 10,000 transactions. However, the system successfully detects only 0.025 fraudulent transactions per 10,000 transactions. This proves why we need excellent/advanced mechanisms to help detect fraud more effectively."
   ]
  },
  {
   "cell_type": "markdown",
   "metadata": {},
   "source": [
    "### Data Exploration\n",
    "\n",
    "From my experience working in banking for 6 years, most fraud cases I have witnessed have correlations with transaction types/channels, amounts perhaps because these are the easiest to detect after which other attributes such as Account balances are taken into consideration.\n",
    "Let’s see the distribution for each attribute. I will use plot visualization to get insight into the dataset."
   ]
  },
  {
   "cell_type": "markdown",
   "metadata": {},
   "source": [
    "#### Fraud"
   ]
  },
  {
   "cell_type": "code",
   "execution_count": 6,
   "metadata": {},
   "outputs": [
    {
     "data": {
      "image/png": "[encoded data removed]",
      "text/plain": [
       "<Figure size 640x480 with 1 Axes>"
      ]
     },
     "metadata": {},
     "output_type": "display_data"
    }
   ],
   "source": [
    "# Fraud\n",
    "\n",
    "sns.countplot(x = 'isFraud',  data=dataset)\n",
    "plt.show()"
   ]
  },
  {
   "cell_type": "code",
   "execution_count": 7,
   "metadata": {},
   "outputs": [
    {
     "data": {
      "text/plain": [
       "isFraud\n",
       "0    6354407\n",
       "1       8213\n",
       "Name: isFraud, dtype: int64"
      ]
     },
     "execution_count": 7,
     "metadata": {},
     "output_type": "execute_result"
    }
   ],
   "source": [
    "# number of actual frauds in the dataset\n",
    "dataset.groupby('isFraud')['isFraud'].count()"
   ]
  },
  {
   "cell_type": "markdown",
   "metadata": {},
   "source": [
    "From the diagram above, it's almost impossible to see the number of fraudulent transactions due to their small value. But as we can see, 8213 compared to 6354407 is very small. It's possible that frauds happen infrequently in this dataset, and hence, the values we are seeing are accurate."
   ]
  },
  {
   "cell_type": "markdown",
   "metadata": {},
   "source": [
    "#### Flagged Fraud"
   ]
  },
  {
   "cell_type": "code",
   "execution_count": 8,
   "metadata": {},
   "outputs": [
    {
     "data": {
      "image/png": "[encoded data removed]",
      "text/plain": [
       "<Figure size 640x480 with 1 Axes>"
      ]
     },
     "metadata": {},
     "output_type": "display_data"
    }
   ],
   "source": [
    "# successfully flagged fraud\n",
    "sns.countplot(x = 'isFlaggedFraud',  data=dataset)\n",
    "plt.show()"
   ]
  },
  {
   "cell_type": "code",
   "execution_count": 9,
   "metadata": {},
   "outputs": [
    {
     "data": {
      "text/plain": [
       "isFlaggedFraud\n",
       "0    6362604\n",
       "1         16\n",
       "Name: isFlaggedFraud, dtype: int64"
      ]
     },
     "execution_count": 9,
     "metadata": {},
     "output_type": "execute_result"
    }
   ],
   "source": [
    "# number of successfully flagged frauds in the dataset\n",
    "dataset.groupby('isFlaggedFraud')['isFlaggedFraud'].count()"
   ]
  },
  {
   "cell_type": "markdown",
   "metadata": {},
   "source": [
    "16 frauds were detected out of 8213, which is an abysmal performance for fraud detection. That is 0.19% of the actual fraud that occurred. This is a good case for employing advanced or more competent fraud detection mechanisms for effective and efficient fraud detection."
   ]
  },
  {
   "cell_type": "markdown",
   "metadata": {},
   "source": [
    "#### Transaction Types vs Fraud"
   ]
  },
  {
   "cell_type": "code",
   "execution_count": 10,
   "metadata": {},
   "outputs": [
    {
     "data": {
      "text/plain": [
       "<Axes: xlabel='type', ylabel='count'>"
      ]
     },
     "execution_count": 10,
     "metadata": {},
     "output_type": "execute_result"
    },
    {
     "data": {
      "image/png": "[encoded data removed]",
      "text/plain": [
       "<Figure size 640x480 with 1 Axes>"
      ]
     },
     "metadata": {},
     "output_type": "display_data"
    }
   ],
   "source": [
    "# Transaction Types\n",
    "sns.countplot(x = 'type', hue='isFraud',  data=dataset)"
   ]
  },
  {
   "cell_type": "code",
   "execution_count": 11,
   "metadata": {},
   "outputs": [
    {
     "data": {
      "text/html": [
       "<div>\n",
       "<style scoped>\n",
       "    .dataframe tbody tr th:only-of-type {\n",
       "        vertical-align: middle;\n",
       "    }\n",
       "\n",
       "    .dataframe tbody tr th {\n",
       "        vertical-align: top;\n",
       "    }\n",
       "\n",
       "    .dataframe thead th {\n",
       "        text-align: right;\n",
       "    }\n",
       "</style>\n",
       "<table border=\"1\" class=\"dataframe\">\n",
       "  <thead>\n",
       "    <tr style=\"text-align: right;\">\n",
       "      <th></th>\n",
       "      <th>type</th>\n",
       "      <th>transaction_count</th>\n",
       "      <th>isFraud</th>\n",
       "    </tr>\n",
       "  </thead>\n",
       "  <tbody>\n",
       "    <tr>\n",
       "      <th>0</th>\n",
       "      <td>CASH_IN</td>\n",
       "      <td>1399284</td>\n",
       "      <td>0</td>\n",
       "    </tr>\n",
       "    <tr>\n",
       "      <th>1</th>\n",
       "      <td>CASH_OUT</td>\n",
       "      <td>2237500</td>\n",
       "      <td>4116</td>\n",
       "    </tr>\n",
       "    <tr>\n",
       "      <th>2</th>\n",
       "      <td>DEBIT</td>\n",
       "      <td>41432</td>\n",
       "      <td>0</td>\n",
       "    </tr>\n",
       "    <tr>\n",
       "      <th>3</th>\n",
       "      <td>PAYMENT</td>\n",
       "      <td>2151495</td>\n",
       "      <td>0</td>\n",
       "    </tr>\n",
       "    <tr>\n",
       "      <th>4</th>\n",
       "      <td>TRANSFER</td>\n",
       "      <td>532909</td>\n",
       "      <td>4097</td>\n",
       "    </tr>\n",
       "  </tbody>\n",
       "</table>\n",
       "</div>"
      ],
      "text/plain": [
       "       type  transaction_count  isFraud\n",
       "0   CASH_IN            1399284        0\n",
       "1  CASH_OUT            2237500     4116\n",
       "2     DEBIT              41432        0\n",
       "3   PAYMENT            2151495        0\n",
       "4  TRANSFER             532909     4097"
      ]
     },
     "execution_count": 11,
     "metadata": {},
     "output_type": "execute_result"
    }
   ],
   "source": [
    "# Get the number of fraud cases in each transaction type\n",
    "dataset.groupby('type').agg(transaction_count = ('type', 'count'),\n",
    "                                   isFraud =('isFraud','sum'),).reset_index()\n"
   ]
  },
  {
   "cell_type": "markdown",
   "metadata": {},
   "source": [
    "We can see that the **TRANSFER** and **CASH_OUT** types are mainly used to commit these fraudulent transactions. These transaction operations make sense because they involve an end-user physically withdrawing or moving money into an account of choice. Also, Fraud detection strategies should prioritise monitoring these high-risk categories."
   ]
  },
  {
   "cell_type": "markdown",
   "metadata": {},
   "source": [
    "#### Transaction Type VS Fraud VS Flagged Fraud"
   ]
  },
  {
   "cell_type": "code",
   "execution_count": 12,
   "metadata": {},
   "outputs": [],
   "source": [
    "# Get the number of fraud cases and detected cases in each transaction type\n",
    "sta_df = dataset.groupby('type').agg(isFraud = ('isFraud', 'sum'),\n",
    "                                   isFlaggedFraud =('isFlaggedFraud','sum'),).reset_index()\n"
   ]
  },
  {
   "cell_type": "code",
   "execution_count": 13,
   "metadata": {},
   "outputs": [
    {
     "data": {
      "text/plain": [
       "(array([0, 1, 2, 3, 4]),\n",
       " [Text(0, 0, 'CASH_IN'),\n",
       "  Text(1, 0, 'CASH_OUT'),\n",
       "  Text(2, 0, 'DEBIT'),\n",
       "  Text(3, 0, 'PAYMENT'),\n",
       "  Text(4, 0, 'TRANSFER')])"
      ]
     },
     "execution_count": 13,
     "metadata": {},
     "output_type": "execute_result"
    },
    {
     "data": {
      "image/png": "[encoded data removed]",
      "text/plain": [
       "<Figure size 640x480 with 1 Axes>"
      ]
     },
     "metadata": {},
     "output_type": "display_data"
    }
   ],
   "source": [
    "#create stacked bar chart for transaction_types Vs actual Fraud Vs successfully detected Fraud\n",
    "sta_df.set_index('type').plot(kind='bar', stacked=True)\n",
    "\n",
    "#add overall title\n",
    "plt.title('Transaction Types Vs Frauds Vs Flagged Frauds', fontsize=16)\n",
    "\n",
    "#add axis titles\n",
    "plt.xlabel('Transaction Types')\n",
    "plt.ylabel('Total Fraud Transactions')\n",
    "\n",
    "#rotate x-axis labels\n",
    "plt.xticks(rotation=45)"
   ]
  },
  {
   "cell_type": "code",
   "execution_count": 14,
   "metadata": {},
   "outputs": [
    {
     "data": {
      "text/html": [
       "<div>\n",
       "<style scoped>\n",
       "    .dataframe tbody tr th:only-of-type {\n",
       "        vertical-align: middle;\n",
       "    }\n",
       "\n",
       "    .dataframe tbody tr th {\n",
       "        vertical-align: top;\n",
       "    }\n",
       "\n",
       "    .dataframe thead th {\n",
       "        text-align: right;\n",
       "    }\n",
       "</style>\n",
       "<table border=\"1\" class=\"dataframe\">\n",
       "  <thead>\n",
       "    <tr style=\"text-align: right;\">\n",
       "      <th></th>\n",
       "      <th>type</th>\n",
       "      <th>isFraud</th>\n",
       "      <th>isFlaggedFraud</th>\n",
       "    </tr>\n",
       "  </thead>\n",
       "  <tbody>\n",
       "    <tr>\n",
       "      <th>0</th>\n",
       "      <td>CASH_IN</td>\n",
       "      <td>0</td>\n",
       "      <td>0</td>\n",
       "    </tr>\n",
       "    <tr>\n",
       "      <th>1</th>\n",
       "      <td>CASH_OUT</td>\n",
       "      <td>4116</td>\n",
       "      <td>0</td>\n",
       "    </tr>\n",
       "    <tr>\n",
       "      <th>2</th>\n",
       "      <td>DEBIT</td>\n",
       "      <td>0</td>\n",
       "      <td>0</td>\n",
       "    </tr>\n",
       "    <tr>\n",
       "      <th>3</th>\n",
       "      <td>PAYMENT</td>\n",
       "      <td>0</td>\n",
       "      <td>0</td>\n",
       "    </tr>\n",
       "    <tr>\n",
       "      <th>4</th>\n",
       "      <td>TRANSFER</td>\n",
       "      <td>4097</td>\n",
       "      <td>16</td>\n",
       "    </tr>\n",
       "  </tbody>\n",
       "</table>\n",
       "</div>"
      ],
      "text/plain": [
       "       type  isFraud  isFlaggedFraud\n",
       "0   CASH_IN        0               0\n",
       "1  CASH_OUT     4116               0\n",
       "2     DEBIT        0               0\n",
       "3   PAYMENT        0               0\n",
       "4  TRANSFER     4097              16"
      ]
     },
     "execution_count": 14,
     "metadata": {},
     "output_type": "execute_result"
    }
   ],
   "source": [
    "# Get the all fraud cases in each transaction type\n",
    "sta_df"
   ]
  },
  {
   "cell_type": "markdown",
   "metadata": {},
   "source": [
    "The chart shows that successfully detected fraud is a small fraction of the total cases, primarily occurring in **TRANSFER**-type transactions. This is understandable, given the challenges in detecting **CASH_OUT** fraud, which involves a significant human element, especially in mobile money scenarios. Fraudsters often exploit social engineering tactics to obtain confidential information from customers, facilitating easy withdrawal initiation.\n",
    "**CASH_OUT** fraud is not just difficult, but almost impossible to revert as well because, when the money is removed from the account it cannot be tracked, while **TRANSFER** is likely be detected because account to account transactions can be tracked and policies governing accounts flag these transactions easily. \n",
    "\n",
    "In summary fraudster prefer certain transaction types or channels (mobile money). Below I highlight the reasons my observations might be:\n",
    "* Transaction types that provides a high level of anonymity.\n",
    "* Transaction types that has a low scrutiny.\n",
    "* Transaction that allow high amounts to be transferred.\n",
    "* Transaction types that a quick which has less time to be detected."
   ]
  },
  {
   "cell_type": "markdown",
   "metadata": {},
   "source": [
    "#### Accounts Vs Fraud"
   ]
  },
  {
   "cell_type": "markdown",
   "metadata": {},
   "source": [
    "Accounts usually correlate to fraud. The fraud detection system monitors and flags certain accounts based on the type of amount the account sends and receives or other factors. For example, **CASH_OUT** transaction type source accounts (**nameOrig**) can normally be the destination account for a previous **TRANSFER** type transaction."
   ]
  },
  {
   "cell_type": "code",
   "execution_count": 15,
   "metadata": {},
   "outputs": [
    {
     "data": {
      "text/html": [
       "<div>\n",
       "<style scoped>\n",
       "    .dataframe tbody tr th:only-of-type {\n",
       "        vertical-align: middle;\n",
       "    }\n",
       "\n",
       "    .dataframe tbody tr th {\n",
       "        vertical-align: top;\n",
       "    }\n",
       "\n",
       "    .dataframe thead th {\n",
       "        text-align: right;\n",
       "    }\n",
       "</style>\n",
       "<table border=\"1\" class=\"dataframe\">\n",
       "  <thead>\n",
       "    <tr style=\"text-align: right;\">\n",
       "      <th></th>\n",
       "      <th>step</th>\n",
       "      <th>type</th>\n",
       "      <th>amount</th>\n",
       "      <th>nameOrig</th>\n",
       "      <th>oldBalanceOrg</th>\n",
       "      <th>newBalanceOrig</th>\n",
       "      <th>nameDest</th>\n",
       "      <th>oldBalanceDest</th>\n",
       "      <th>newBalanceDest</th>\n",
       "      <th>isFraud</th>\n",
       "      <th>isFlaggedFraud</th>\n",
       "    </tr>\n",
       "  </thead>\n",
       "  <tbody>\n",
       "    <tr>\n",
       "      <th>2</th>\n",
       "      <td>1</td>\n",
       "      <td>TRANSFER</td>\n",
       "      <td>181.0</td>\n",
       "      <td>C1305486145</td>\n",
       "      <td>181.0</td>\n",
       "      <td>0.0</td>\n",
       "      <td>C553264065</td>\n",
       "      <td>0.0</td>\n",
       "      <td>0.0</td>\n",
       "      <td>1</td>\n",
       "      <td>0</td>\n",
       "    </tr>\n",
       "    <tr>\n",
       "      <th>3</th>\n",
       "      <td>1</td>\n",
       "      <td>CASH_OUT</td>\n",
       "      <td>181.0</td>\n",
       "      <td>C840083671</td>\n",
       "      <td>181.0</td>\n",
       "      <td>0.0</td>\n",
       "      <td>C38997010</td>\n",
       "      <td>21182.0</td>\n",
       "      <td>0.0</td>\n",
       "      <td>1</td>\n",
       "      <td>0</td>\n",
       "    </tr>\n",
       "    <tr>\n",
       "      <th>251</th>\n",
       "      <td>1</td>\n",
       "      <td>TRANSFER</td>\n",
       "      <td>2806.0</td>\n",
       "      <td>C1420196421</td>\n",
       "      <td>2806.0</td>\n",
       "      <td>0.0</td>\n",
       "      <td>C972765878</td>\n",
       "      <td>0.0</td>\n",
       "      <td>0.0</td>\n",
       "      <td>1</td>\n",
       "      <td>0</td>\n",
       "    </tr>\n",
       "    <tr>\n",
       "      <th>252</th>\n",
       "      <td>1</td>\n",
       "      <td>CASH_OUT</td>\n",
       "      <td>2806.0</td>\n",
       "      <td>C2101527076</td>\n",
       "      <td>2806.0</td>\n",
       "      <td>0.0</td>\n",
       "      <td>C1007251739</td>\n",
       "      <td>26202.0</td>\n",
       "      <td>0.0</td>\n",
       "      <td>1</td>\n",
       "      <td>0</td>\n",
       "    </tr>\n",
       "    <tr>\n",
       "      <th>680</th>\n",
       "      <td>1</td>\n",
       "      <td>TRANSFER</td>\n",
       "      <td>20128.0</td>\n",
       "      <td>C137533655</td>\n",
       "      <td>20128.0</td>\n",
       "      <td>0.0</td>\n",
       "      <td>C1848415041</td>\n",
       "      <td>0.0</td>\n",
       "      <td>0.0</td>\n",
       "      <td>1</td>\n",
       "      <td>0</td>\n",
       "    </tr>\n",
       "  </tbody>\n",
       "</table>\n",
       "</div>"
      ],
      "text/plain": [
       "     step      type   amount     nameOrig  oldBalanceOrg  newBalanceOrig  \\\n",
       "2       1  TRANSFER    181.0  C1305486145          181.0             0.0   \n",
       "3       1  CASH_OUT    181.0   C840083671          181.0             0.0   \n",
       "251     1  TRANSFER   2806.0  C1420196421         2806.0             0.0   \n",
       "252     1  CASH_OUT   2806.0  C2101527076         2806.0             0.0   \n",
       "680     1  TRANSFER  20128.0   C137533655        20128.0             0.0   \n",
       "\n",
       "        nameDest  oldBalanceDest  newBalanceDest  isFraud  isFlaggedFraud  \n",
       "2     C553264065             0.0             0.0        1               0  \n",
       "3      C38997010         21182.0             0.0        1               0  \n",
       "251   C972765878             0.0             0.0        1               0  \n",
       "252  C1007251739         26202.0             0.0        1               0  \n",
       "680  C1848415041             0.0             0.0        1               0  "
      ]
     },
     "execution_count": 15,
     "metadata": {},
     "output_type": "execute_result"
    }
   ],
   "source": [
    "# Was a CASH_OUT transaction source account(nameOrig) previously used as \n",
    "# TRANSFER transactions destination account?\n",
    "\n",
    "actual_fraud = dataset.loc[dataset['isFraud'] == 1]\n",
    "actual_fraud.head()"
   ]
  },
  {
   "cell_type": "code",
   "execution_count": 16,
   "metadata": {},
   "outputs": [
    {
     "data": {
      "text/html": [
       "<div>\n",
       "<style scoped>\n",
       "    .dataframe tbody tr th:only-of-type {\n",
       "        vertical-align: middle;\n",
       "    }\n",
       "\n",
       "    .dataframe tbody tr th {\n",
       "        vertical-align: top;\n",
       "    }\n",
       "\n",
       "    .dataframe thead th {\n",
       "        text-align: right;\n",
       "    }\n",
       "</style>\n",
       "<table border=\"1\" class=\"dataframe\">\n",
       "  <thead>\n",
       "    <tr style=\"text-align: right;\">\n",
       "      <th></th>\n",
       "      <th>step_x</th>\n",
       "      <th>type_x</th>\n",
       "      <th>amount_x</th>\n",
       "      <th>nameOrig</th>\n",
       "      <th>oldBalanceOrg_x</th>\n",
       "      <th>newBalanceOrig_x</th>\n",
       "      <th>nameDest</th>\n",
       "      <th>oldBalanceDest_x</th>\n",
       "      <th>newBalanceDest_x</th>\n",
       "      <th>isFraud_x</th>\n",
       "      <th>isFlaggedFraud_x</th>\n",
       "      <th>step_y</th>\n",
       "      <th>type_y</th>\n",
       "      <th>amount_y</th>\n",
       "      <th>oldBalanceOrg_y</th>\n",
       "      <th>newBalanceOrig_y</th>\n",
       "      <th>oldBalanceDest_y</th>\n",
       "      <th>newBalanceDest_y</th>\n",
       "      <th>isFraud_y</th>\n",
       "      <th>isFlaggedFraud_y</th>\n",
       "    </tr>\n",
       "  </thead>\n",
       "  <tbody>\n",
       "  </tbody>\n",
       "</table>\n",
       "</div>"
      ],
      "text/plain": [
       "Empty DataFrame\n",
       "Columns: [step_x, type_x, amount_x, nameOrig, oldBalanceOrg_x, newBalanceOrig_x, nameDest, oldBalanceDest_x, newBalanceDest_x, isFraud_x, isFlaggedFraud_x, step_y, type_y, amount_y, oldBalanceOrg_y, newBalanceOrig_y, oldBalanceDest_y, newBalanceDest_y, isFraud_y, isFlaggedFraud_y]\n",
       "Index: []"
      ]
     },
     "execution_count": 16,
     "metadata": {},
     "output_type": "execute_result"
    }
   ],
   "source": [
    "# Fraud transaction (isFraud = 1)\n",
    "cash_out__fraud_tx = actual_fraud.loc[actual_fraud['type'] == 'CASH_OUT']\n",
    "transfer_fraud_tx = actual_fraud.loc[actual_fraud['type'] == 'TRANSFER']\n",
    "\n",
    "# test if there are any CASH_OUT source account in a TRANSFER transaction destination account\n",
    "intersected_accounts = pd.merge(cash_out__fraud_tx, transfer_fraud_tx, how='inner', on=['nameOrig','nameDest'])\n",
    "intersected_accounts"
   ]
  },
  {
   "cell_type": "markdown",
   "metadata": {},
   "source": [
    "An empty result shows that no **TRANSFER** destination accounts were used as source accounts for **CASH_OUT** transactions. This might mean that the cases for **CASH_OUT** and **TRANSFER** transactions are unrelated."
   ]
  },
  {
   "cell_type": "markdown",
   "metadata": {},
   "source": [
    "#### Amount Vs Fraud\n",
    "\n",
    "While working with **AMOUNT** I realised that the data points is quit large, takes a 26 seconds to compute and execute, also observations will be too clattered. "
   ]
  },
  {
   "cell_type": "markdown",
   "metadata": {},
   "source": [
    "Check how transactions are distributed across the types **CASH_OUT, TRANSFER, CASH_IN, DEBIT, PAYMENT**"
   ]
  },
  {
   "cell_type": "code",
   "execution_count": 17,
   "metadata": {},
   "outputs": [
    {
     "data": {
      "text/plain": [
       "type\n",
       "CASH_OUT    2237500\n",
       "PAYMENT     2151495\n",
       "CASH_IN     1399284\n",
       "TRANSFER     532909\n",
       "DEBIT         41432\n",
       "Name: count, dtype: int64"
      ]
     },
     "execution_count": 17,
     "metadata": {},
     "output_type": "execute_result"
    }
   ],
   "source": [
    "# Check unique values and their counts \n",
    "# for the column 'type'\n",
    "dataset['type'].value_counts()"
   ]
  },
  {
   "cell_type": "markdown",
   "metadata": {},
   "source": [
    "Let’s convert these raw numbers into proportions using the normalize=True parameter."
   ]
  },
  {
   "cell_type": "code",
   "execution_count": 18,
   "metadata": {},
   "outputs": [
    {
     "data": {
      "text/html": [
       "<div>\n",
       "<style scoped>\n",
       "    .dataframe tbody tr th:only-of-type {\n",
       "        vertical-align: middle;\n",
       "    }\n",
       "\n",
       "    .dataframe tbody tr th {\n",
       "        vertical-align: top;\n",
       "    }\n",
       "\n",
       "    .dataframe thead th {\n",
       "        text-align: right;\n",
       "    }\n",
       "</style>\n",
       "<table border=\"1\" class=\"dataframe\">\n",
       "  <thead>\n",
       "    <tr style=\"text-align: right;\">\n",
       "      <th></th>\n",
       "      <th>Expected</th>\n",
       "    </tr>\n",
       "    <tr>\n",
       "      <th>type</th>\n",
       "      <th></th>\n",
       "    </tr>\n",
       "  </thead>\n",
       "  <tbody>\n",
       "    <tr>\n",
       "      <th>CASH_OUT</th>\n",
       "      <td>35.17</td>\n",
       "    </tr>\n",
       "    <tr>\n",
       "      <th>PAYMENT</th>\n",
       "      <td>33.81</td>\n",
       "    </tr>\n",
       "    <tr>\n",
       "      <th>CASH_IN</th>\n",
       "      <td>21.99</td>\n",
       "    </tr>\n",
       "    <tr>\n",
       "      <th>TRANSFER</th>\n",
       "      <td>8.38</td>\n",
       "    </tr>\n",
       "    <tr>\n",
       "      <th>DEBIT</th>\n",
       "      <td>0.65</td>\n",
       "    </tr>\n",
       "  </tbody>\n",
       "</table>\n",
       "</div>"
      ],
      "text/plain": [
       "          Expected\n",
       "type              \n",
       "CASH_OUT     35.17\n",
       "PAYMENT      33.81\n",
       "CASH_IN      21.99\n",
       "TRANSFER      8.38\n",
       "DEBIT         0.65"
      ]
     },
     "execution_count": 18,
     "metadata": {},
     "output_type": "execute_result"
    }
   ],
   "source": [
    "# Get ratio instead of raw numbers using normalize=True\n",
    "expected_ratio = dataset['type'].value_counts(normalize=True)\n",
    "\n",
    "# Round and then convert to percentage\n",
    "expected_ratio = expected_ratio.round(4)*100\n",
    "\n",
    "# convert to a DataFrame and store in variable 'type_ratios'\n",
    "# We'll use this variable to compare ratios for samples\n",
    "# selected using SRS and Stratified Sampling\n",
    "type_ratios = pd.DataFrame({'Expected':expected_ratio})\n",
    "type_ratios"
   ]
  },
  {
   "cell_type": "code",
   "execution_count": 19,
   "metadata": {},
   "outputs": [
    {
     "data": {
      "text/plain": [
       "Text(0.5, 1.0, 'zoomed amount vs Fraud')"
      ]
     },
     "execution_count": 19,
     "metadata": {},
     "output_type": "execute_result"
    },
    {
     "data": {
      "image/png": "[encoded data removed]",
      "text/plain": [
       "<Figure size 1600x600 with 2 Axes>"
      ]
     },
     "metadata": {},
     "output_type": "display_data"
    }
   ],
   "source": [
    "# Plot for amount and Fraud\n",
    "\n",
    "plt.figure(figsize=(16,6))\n",
    "plt.subplot(2,2,1)\n",
    "sns.boxplot(x= dataset.isFraud, y= dataset.amount, data=dataset)\n",
    "plt.title('amount vs Fraud',fontweight=\"bold\", size=20)\n",
    "\n",
    "\n",
    "plt.subplot(2,2,2)\n",
    "sns.boxplot(x= dataset.isFraud, y= dataset.amount, data = dataset, hue=dataset.isFraud)\n",
    "# adding data points\n",
    "sns.stripplot(x = dataset.isFraud, y = dataset.amount, data = dataset)\n",
    "plt.yscale('log')\n",
    "plt.title('zoomed amount vs Fraud',fontweight=\"bold\", size=20)"
   ]
  },
  {
   "cell_type": "markdown",
   "metadata": {},
   "source": [
    "Non-fraud and fraud transactions have very high amounts that appear as outliers. Customers performed a lot of transactions in the lower 75% between the mean and the min. This makes sense as the bulk of daily transactions are low amounts. For example, customers rarely buy or pay for items that are expensive on average. The same goes for fraud transactions as well, but in comparison, fraud transactions are mostly higher amounts than non-fraud transactions. \n",
    "\n",
    "We can see that **isFraud=1** has a higher mean than **isFraud=0**. It is strange how fraud transactions have a higher mean, hence averaging higher amounts than non-fraud transactions. This could mean fraudsters are confident enough to perform these transactions because they would not get caught, or the system for detecting these frauds is not efficient enough. \n",
    "Typically, fraudsters aim to siphon smaller amounts of transactions under the radar to avoid detection. However, our data presents an unexpected pattern."
   ]
  },
  {
   "cell_type": "markdown",
   "metadata": {},
   "source": [
    "#### Amount Vs Type Vs Fraud"
   ]
  },
  {
   "cell_type": "markdown",
   "metadata": {},
   "source": [
    "This is the percentage of rows we have for each transaction type. I expect a sample from this dataset to have a similar distribution across types."
   ]
  },
  {
   "cell_type": "code",
   "execution_count": 20,
   "metadata": {},
   "outputs": [
    {
     "data": {
      "text/plain": [
       "Text(0.5, 1.0, 'zoomed Amount vs Types vs Fraud')"
      ]
     },
     "execution_count": 20,
     "metadata": {},
     "output_type": "execute_result"
    },
    {
     "data": {
      "image/png": "[encoded data removed]",
      "text/plain": [
       "<Figure size 1600x600 with 1 Axes>"
      ]
     },
     "metadata": {},
     "output_type": "display_data"
    }
   ],
   "source": [
    "plt.figure(figsize=(16, 6))\n",
    "\n",
    "sns.boxplot(hue = dataset.isFraud, x = dataset.type, y = dataset.amount, data = dataset)\n",
    "plt.yscale('log')\n",
    "plt.title('zoomed Amount vs Types vs Fraud',fontweight=\"bold\", size=20)\n"
   ]
  },
  {
   "cell_type": "markdown",
   "metadata": {},
   "source": [
    "Frauds of **TRANSFER** type have an average transaction amounts slightly less than that of a non-fraud transaction, looking at the dispersion at the mean of the two plots. While compared to transactions of **CASH_OUT** type, we can see that the average/mean fraud amount is distinctively higher than those non-fraud. This might be because fraudsters usually move small amounts of money in the system under the radar to avoid detection and then cash out big in the end. This also goes back to why there were more frauds of **CASH_OUT** type to **TRANSFER** also, not forgetting that only **TRANSFER** type fraud was successfully flagged. Hence fraudsters might do smaller amounts of transfers and bigger amount of cash outs.\n",
    "\n",
    "Using amount a transaction amount is one of the less complex features to detect fraud. There are several strategies that can be used to identify potential fraudulent\n",
    "activities. Some of these strategies are\n",
    "* Using transaction thresholds, this is very effective when you know a customers spending/transaction pattern.\n",
    "* Frequency analysis used to identify sudden spikes in transactions amounts.\n",
    "* Large amount coming from locations inconsistent with a customers behavior.\n",
    "\n"
   ]
  },
  {
   "cell_type": "markdown",
   "metadata": {},
   "source": [
    "#### BALANCE Vs FRAUD\n",
    "In this section I will investigate to see if the balance before a transactions has an correlation on fraud.\n",
    "\n",
    "Balance - Monitory transaction patterns using account balances can be used to detect fraud especially in scenarios where there is a sudden significant drop or increase in an accounts balances. This in conjunction with unusual transaction pattern inconsistent with a customer behavior can considered as a detection strategy. Customers normal have regular spending patterns.\n"
   ]
  },
  {
   "cell_type": "code",
   "execution_count": 21,
   "metadata": {},
   "outputs": [],
   "source": [
    "# clone the dataset\n",
    "df = dataset.copy()"
   ]
  },
  {
   "cell_type": "code",
   "execution_count": 22,
   "metadata": {},
   "outputs": [],
   "source": [
    "# Preprocessing for correlation matrix\n",
    "# Encoding categorical variables for correlation plot\n",
    "# use df\n",
    "le =  LabelEncoder()\n",
    "df['type'] = le.fit_transform(df.type)\n",
    "\n",
    "# Drop categorical attributes with no useful information\n",
    "df_numeric = df.drop(columns=['nameOrig','nameDest'], axis=1)\n",
    "\n"
   ]
  },
  {
   "cell_type": "code",
   "execution_count": 23,
   "metadata": {},
   "outputs": [
    {
     "data": {
      "image/png": "[encoded data removed]",
      "text/plain": [
       "<Figure size 1300x600 with 2 Axes>"
      ]
     },
     "metadata": {},
     "output_type": "display_data"
    }
   ],
   "source": [
    "# Plot correlation map\n",
    "plt.figure(figsize=(13, 6))\n",
    "\n",
    "# Mask to isolate upper triangle of matrix\n",
    "mask = np.triu(np.ones_like(df_numeric.corr(), dtype=np.bool))\n",
    "\n",
    "heatmap = sns.heatmap(df_numeric.corr(), vmin=-1, vmax=1, annot=True, fmt='.2f', cmap='BrBG', mask=mask)\n",
    "heatmap.set_title('Triangle Correlation Heatmap', fontdict={'fontsize':12}, pad=16);\n",
    "\n",
    "plt.show()"
   ]
  },
  {
   "cell_type": "markdown",
   "metadata": {},
   "source": [
    "Looking at the diagram , Amount Vs IsFraud has an r-value of 0.08 which is not a too much correlation between the two is statistically significant and therefore the correlation is not by chance "
   ]
  },
  {
   "cell_type": "code",
   "execution_count": 35,
   "metadata": {},
   "outputs": [
    {
     "data": {
      "text/html": [
       "<div>\n",
       "<style scoped>\n",
       "    .dataframe tbody tr th:only-of-type {\n",
       "        vertical-align: middle;\n",
       "    }\n",
       "\n",
       "    .dataframe tbody tr th {\n",
       "        vertical-align: top;\n",
       "    }\n",
       "\n",
       "    .dataframe thead th {\n",
       "        text-align: right;\n",
       "    }\n",
       "</style>\n",
       "<table border=\"1\" class=\"dataframe\">\n",
       "  <thead>\n",
       "    <tr style=\"text-align: right;\">\n",
       "      <th></th>\n",
       "      <th></th>\n",
       "      <th>step</th>\n",
       "      <th>type</th>\n",
       "      <th>amount</th>\n",
       "      <th>oldBalanceOrg</th>\n",
       "      <th>newBalanceOrig</th>\n",
       "      <th>oldBalanceDest</th>\n",
       "      <th>newBalanceDest</th>\n",
       "      <th>isFraud</th>\n",
       "      <th>isFlaggedFraud</th>\n",
       "    </tr>\n",
       "    <tr>\n",
       "      <th>type</th>\n",
       "      <th></th>\n",
       "      <th></th>\n",
       "      <th></th>\n",
       "      <th></th>\n",
       "      <th></th>\n",
       "      <th></th>\n",
       "      <th></th>\n",
       "      <th></th>\n",
       "      <th></th>\n",
       "      <th></th>\n",
       "    </tr>\n",
       "  </thead>\n",
       "  <tbody>\n",
       "    <tr>\n",
       "      <th rowspan=\"5\" valign=\"top\">0</th>\n",
       "      <th>3347586</th>\n",
       "      <td>253</td>\n",
       "      <td>0</td>\n",
       "      <td>214850.52</td>\n",
       "      <td>205117.26</td>\n",
       "      <td>419967.77</td>\n",
       "      <td>261065.44</td>\n",
       "      <td>46214.92</td>\n",
       "      <td>0</td>\n",
       "      <td>0</td>\n",
       "    </tr>\n",
       "    <tr>\n",
       "      <th>6111815</th>\n",
       "      <td>526</td>\n",
       "      <td>0</td>\n",
       "      <td>66192.41</td>\n",
       "      <td>29929.00</td>\n",
       "      <td>96121.41</td>\n",
       "      <td>2000076.93</td>\n",
       "      <td>1933884.51</td>\n",
       "      <td>0</td>\n",
       "      <td>0</td>\n",
       "    </tr>\n",
       "    <tr>\n",
       "      <th>4745167</th>\n",
       "      <td>333</td>\n",
       "      <td>0</td>\n",
       "      <td>157706.66</td>\n",
       "      <td>3940.00</td>\n",
       "      <td>161646.66</td>\n",
       "      <td>173946.49</td>\n",
       "      <td>16239.83</td>\n",
       "      <td>0</td>\n",
       "      <td>0</td>\n",
       "    </tr>\n",
       "    <tr>\n",
       "      <th>6135886</th>\n",
       "      <td>544</td>\n",
       "      <td>0</td>\n",
       "      <td>107527.95</td>\n",
       "      <td>3184298.16</td>\n",
       "      <td>3291826.11</td>\n",
       "      <td>554866.77</td>\n",
       "      <td>447338.82</td>\n",
       "      <td>0</td>\n",
       "      <td>0</td>\n",
       "    </tr>\n",
       "    <tr>\n",
       "      <th>731872</th>\n",
       "      <td>37</td>\n",
       "      <td>0</td>\n",
       "      <td>63101.92</td>\n",
       "      <td>554.00</td>\n",
       "      <td>63655.92</td>\n",
       "      <td>615342.46</td>\n",
       "      <td>552240.54</td>\n",
       "      <td>0</td>\n",
       "      <td>0</td>\n",
       "    </tr>\n",
       "    <tr>\n",
       "      <th>...</th>\n",
       "      <th>...</th>\n",
       "      <td>...</td>\n",
       "      <td>...</td>\n",
       "      <td>...</td>\n",
       "      <td>...</td>\n",
       "      <td>...</td>\n",
       "      <td>...</td>\n",
       "      <td>...</td>\n",
       "      <td>...</td>\n",
       "      <td>...</td>\n",
       "    </tr>\n",
       "    <tr>\n",
       "      <th rowspan=\"5\" valign=\"top\">4</th>\n",
       "      <th>510632</th>\n",
       "      <td>20</td>\n",
       "      <td>4</td>\n",
       "      <td>885850.49</td>\n",
       "      <td>0.00</td>\n",
       "      <td>0.00</td>\n",
       "      <td>977441.29</td>\n",
       "      <td>1863291.78</td>\n",
       "      <td>0</td>\n",
       "      <td>0</td>\n",
       "    </tr>\n",
       "    <tr>\n",
       "      <th>4609844</th>\n",
       "      <td>329</td>\n",
       "      <td>4</td>\n",
       "      <td>662480.12</td>\n",
       "      <td>140270.24</td>\n",
       "      <td>0.00</td>\n",
       "      <td>6098953.95</td>\n",
       "      <td>6761434.08</td>\n",
       "      <td>0</td>\n",
       "      <td>0</td>\n",
       "    </tr>\n",
       "    <tr>\n",
       "      <th>6010758</th>\n",
       "      <td>442</td>\n",
       "      <td>4</td>\n",
       "      <td>91422.92</td>\n",
       "      <td>12937.00</td>\n",
       "      <td>0.00</td>\n",
       "      <td>1267483.23</td>\n",
       "      <td>1358906.16</td>\n",
       "      <td>0</td>\n",
       "      <td>0</td>\n",
       "    </tr>\n",
       "    <tr>\n",
       "      <th>580342</th>\n",
       "      <td>33</td>\n",
       "      <td>4</td>\n",
       "      <td>1031949.48</td>\n",
       "      <td>10035.00</td>\n",
       "      <td>0.00</td>\n",
       "      <td>0.00</td>\n",
       "      <td>1031949.48</td>\n",
       "      <td>0</td>\n",
       "      <td>0</td>\n",
       "    </tr>\n",
       "    <tr>\n",
       "      <th>3271372</th>\n",
       "      <td>251</td>\n",
       "      <td>4</td>\n",
       "      <td>261775.26</td>\n",
       "      <td>0.00</td>\n",
       "      <td>0.00</td>\n",
       "      <td>3734179.54</td>\n",
       "      <td>3995954.81</td>\n",
       "      <td>0</td>\n",
       "      <td>0</td>\n",
       "    </tr>\n",
       "  </tbody>\n",
       "</table>\n",
       "<p>1272524 rows × 9 columns</p>\n",
       "</div>"
      ],
      "text/plain": [
       "              step  type      amount  oldBalanceOrg  newBalanceOrig  \\\n",
       "type                                                                  \n",
       "0    3347586   253     0   214850.52      205117.26       419967.77   \n",
       "     6111815   526     0    66192.41       29929.00        96121.41   \n",
       "     4745167   333     0   157706.66        3940.00       161646.66   \n",
       "     6135886   544     0   107527.95     3184298.16      3291826.11   \n",
       "     731872     37     0    63101.92         554.00        63655.92   \n",
       "...            ...   ...         ...            ...             ...   \n",
       "4    510632     20     4   885850.49           0.00            0.00   \n",
       "     4609844   329     4   662480.12      140270.24            0.00   \n",
       "     6010758   442     4    91422.92       12937.00            0.00   \n",
       "     580342     33     4  1031949.48       10035.00            0.00   \n",
       "     3271372   251     4   261775.26           0.00            0.00   \n",
       "\n",
       "              oldBalanceDest  newBalanceDest  isFraud  isFlaggedFraud  \n",
       "type                                                                   \n",
       "0    3347586       261065.44        46214.92        0               0  \n",
       "     6111815      2000076.93      1933884.51        0               0  \n",
       "     4745167       173946.49        16239.83        0               0  \n",
       "     6135886       554866.77       447338.82        0               0  \n",
       "     731872        615342.46       552240.54        0               0  \n",
       "...                      ...             ...      ...             ...  \n",
       "4    510632        977441.29      1863291.78        0               0  \n",
       "     4609844      6098953.95      6761434.08        0               0  \n",
       "     6010758      1267483.23      1358906.16        0               0  \n",
       "     580342             0.00      1031949.48        0               0  \n",
       "     3271372      3734179.54      3995954.81        0               0  \n",
       "\n",
       "[1272524 rows x 9 columns]"
      ]
     },
     "execution_count": 35,
     "metadata": {},
     "output_type": "execute_result"
    }
   ],
   "source": [
    "# Implementing Stratified Sampling which maintains the population group ratios\n",
    "stratified_sample = df_numeric.groupby('type').apply(\n",
    "    lambda x: x.sample(frac=0.20)\n",
    ")\n",
    "stratified_sample"
   ]
  },
  {
   "cell_type": "code",
   "execution_count": 33,
   "metadata": {},
   "outputs": [],
   "source": [
    "#create function to calculate p-values for each pairwise correlation coefficient\n",
    "def r_pvalues(df):\n",
    "    cols = pd.DataFrame(columns=df.columns)\n",
    "    p = cols.transpose().join(cols, how='outer')\n",
    "    for r in df.columns:\n",
    "        for c in df.columns:\n",
    "            tmp = df[df[r].notnull() & df[c].notnull()]\n",
    "            p[r][c] = round(pearsonr(tmp[r], tmp[c])[1], 3)\n",
    "    return p"
   ]
  },
  {
   "cell_type": "code",
   "execution_count": 36,
   "metadata": {},
   "outputs": [
    {
     "data": {
      "text/html": [
       "<div>\n",
       "<style scoped>\n",
       "    .dataframe tbody tr th:only-of-type {\n",
       "        vertical-align: middle;\n",
       "    }\n",
       "\n",
       "    .dataframe tbody tr th {\n",
       "        vertical-align: top;\n",
       "    }\n",
       "\n",
       "    .dataframe thead th {\n",
       "        text-align: right;\n",
       "    }\n",
       "</style>\n",
       "<table border=\"1\" class=\"dataframe\">\n",
       "  <thead>\n",
       "    <tr style=\"text-align: right;\">\n",
       "      <th></th>\n",
       "      <th>step</th>\n",
       "      <th>type</th>\n",
       "      <th>amount</th>\n",
       "      <th>oldBalanceOrg</th>\n",
       "      <th>newBalanceOrig</th>\n",
       "      <th>oldBalanceDest</th>\n",
       "      <th>newBalanceDest</th>\n",
       "      <th>isFraud</th>\n",
       "      <th>isFlaggedFraud</th>\n",
       "    </tr>\n",
       "  </thead>\n",
       "  <tbody>\n",
       "    <tr>\n",
       "      <th>amount</th>\n",
       "      <td>0.0</td>\n",
       "      <td>0.0</td>\n",
       "      <td>0.0</td>\n",
       "      <td>0.0</td>\n",
       "      <td>0.0</td>\n",
       "      <td>0.0</td>\n",
       "      <td>0.0</td>\n",
       "      <td>0.0</td>\n",
       "      <td>0.0</td>\n",
       "    </tr>\n",
       "    <tr>\n",
       "      <th>isFlaggedFraud</th>\n",
       "      <td>0.0</td>\n",
       "      <td>0.001</td>\n",
       "      <td>0.0</td>\n",
       "      <td>0.006</td>\n",
       "      <td>0.007</td>\n",
       "      <td>0.523</td>\n",
       "      <td>0.512</td>\n",
       "      <td>0.0</td>\n",
       "      <td>0.0</td>\n",
       "    </tr>\n",
       "    <tr>\n",
       "      <th>isFraud</th>\n",
       "      <td>0.0</td>\n",
       "      <td>0.0</td>\n",
       "      <td>0.0</td>\n",
       "      <td>0.0</td>\n",
       "      <td>0.0</td>\n",
       "      <td>0.0</td>\n",
       "      <td>0.788</td>\n",
       "      <td>0.0</td>\n",
       "      <td>0.0</td>\n",
       "    </tr>\n",
       "    <tr>\n",
       "      <th>newBalanceDest</th>\n",
       "      <td>0.0</td>\n",
       "      <td>0.0</td>\n",
       "      <td>0.0</td>\n",
       "      <td>0.0</td>\n",
       "      <td>0.0</td>\n",
       "      <td>0.0</td>\n",
       "      <td>0.0</td>\n",
       "      <td>0.788</td>\n",
       "      <td>0.512</td>\n",
       "    </tr>\n",
       "    <tr>\n",
       "      <th>newBalanceOrig</th>\n",
       "      <td>0.0</td>\n",
       "      <td>0.0</td>\n",
       "      <td>0.0</td>\n",
       "      <td>0.0</td>\n",
       "      <td>0.0</td>\n",
       "      <td>0.0</td>\n",
       "      <td>0.0</td>\n",
       "      <td>0.0</td>\n",
       "      <td>0.007</td>\n",
       "    </tr>\n",
       "    <tr>\n",
       "      <th>oldBalanceDest</th>\n",
       "      <td>0.0</td>\n",
       "      <td>0.0</td>\n",
       "      <td>0.0</td>\n",
       "      <td>0.0</td>\n",
       "      <td>0.0</td>\n",
       "      <td>0.0</td>\n",
       "      <td>0.0</td>\n",
       "      <td>0.0</td>\n",
       "      <td>0.523</td>\n",
       "    </tr>\n",
       "    <tr>\n",
       "      <th>oldBalanceOrg</th>\n",
       "      <td>0.0</td>\n",
       "      <td>0.0</td>\n",
       "      <td>0.0</td>\n",
       "      <td>0.0</td>\n",
       "      <td>0.0</td>\n",
       "      <td>0.0</td>\n",
       "      <td>0.0</td>\n",
       "      <td>0.0</td>\n",
       "      <td>0.006</td>\n",
       "    </tr>\n",
       "    <tr>\n",
       "      <th>step</th>\n",
       "      <td>0.0</td>\n",
       "      <td>0.0</td>\n",
       "      <td>0.0</td>\n",
       "      <td>0.0</td>\n",
       "      <td>0.0</td>\n",
       "      <td>0.0</td>\n",
       "      <td>0.0</td>\n",
       "      <td>0.0</td>\n",
       "      <td>0.0</td>\n",
       "    </tr>\n",
       "    <tr>\n",
       "      <th>type</th>\n",
       "      <td>0.0</td>\n",
       "      <td>0.0</td>\n",
       "      <td>0.0</td>\n",
       "      <td>0.0</td>\n",
       "      <td>0.0</td>\n",
       "      <td>0.0</td>\n",
       "      <td>0.0</td>\n",
       "      <td>0.0</td>\n",
       "      <td>0.001</td>\n",
       "    </tr>\n",
       "  </tbody>\n",
       "</table>\n",
       "</div>"
      ],
      "text/plain": [
       "               step   type amount oldBalanceOrg newBalanceOrig oldBalanceDest  \\\n",
       "amount          0.0    0.0    0.0           0.0            0.0            0.0   \n",
       "isFlaggedFraud  0.0  0.001    0.0         0.006          0.007          0.523   \n",
       "isFraud         0.0    0.0    0.0           0.0            0.0            0.0   \n",
       "newBalanceDest  0.0    0.0    0.0           0.0            0.0            0.0   \n",
       "newBalanceOrig  0.0    0.0    0.0           0.0            0.0            0.0   \n",
       "oldBalanceDest  0.0    0.0    0.0           0.0            0.0            0.0   \n",
       "oldBalanceOrg   0.0    0.0    0.0           0.0            0.0            0.0   \n",
       "step            0.0    0.0    0.0           0.0            0.0            0.0   \n",
       "type            0.0    0.0    0.0           0.0            0.0            0.0   \n",
       "\n",
       "               newBalanceDest isFraud isFlaggedFraud  \n",
       "amount                    0.0     0.0            0.0  \n",
       "isFlaggedFraud          0.512     0.0            0.0  \n",
       "isFraud                 0.788     0.0            0.0  \n",
       "newBalanceDest            0.0   0.788          0.512  \n",
       "newBalanceOrig            0.0     0.0          0.007  \n",
       "oldBalanceDest            0.0     0.0          0.523  \n",
       "oldBalanceOrg             0.0     0.0          0.006  \n",
       "step                      0.0     0.0            0.0  \n",
       "type                      0.0     0.0          0.001  "
      ]
     },
     "execution_count": 36,
     "metadata": {},
     "output_type": "execute_result"
    }
   ],
   "source": [
    "r_pvalues(stratified_sample)\n"
   ]
  }
 ],
 "metadata": {
  "kernelspec": {
   "display_name": ".venv",
   "language": "python",
   "name": "python3"
  },
  "language_info": {
   "codemirror_mode": {
    "name": "ipython",
    "version": 3
   },
   "file_extension": ".py",
   "mimetype": "text/x-python",
   "name": "python",
   "nbconvert_exporter": "python",
   "pygments_lexer": "ipython3",
   "version": "3.11.6"
  }
 },
 "nbformat": 4,
 "nbformat_minor": 2
}
